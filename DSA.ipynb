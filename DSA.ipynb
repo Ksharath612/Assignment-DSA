{
 "cells": [
  {
   "cell_type": "markdown",
   "metadata": {},
   "source": [
    "# Q1. Write a program to find all pairs of an integer array whose sum is equal to a given number?\n",
    "\n"
   ]
  },
  {
   "cell_type": "code",
   "execution_count": 53,
   "metadata": {},
   "outputs": [
    {
     "name": "stdout",
     "output_type": "stream",
     "text": [
      "Enter the number you want to get the sum of pairs for \n",
      "10\n",
      "The sum of pairs matching to the given number - 10, are \n",
      " 3 + 7 = 10\n",
      "The sum of pairs matching to the given number - 10, are \n",
      " 3 + 7 = 10\n",
      "The sum of pairs matching to the given number - 10, are \n",
      " 5 + 5 = 10\n",
      "The sum of pairs matching to the given number - 10, are \n",
      " 4 + 6 = 10\n",
      "The sum of pairs matching to the given number - 10, are \n",
      " 4 + 6 = 10\n",
      "The sum of pairs matching to the given number - 10, are \n",
      " 7 + 3 = 10\n",
      "The sum of pairs matching to the given number - 10, are \n",
      " 3 + 7 = 10\n"
     ]
    }
   ],
   "source": [
    "class pairs():\n",
    "    def __init__(self,arr,num,n):\n",
    "        self.arr=arr\n",
    "        self.num=num\n",
    "        self.n=n\n",
    "    \n",
    "    def matching_pairs(self):\n",
    "        for i in range(0,self.n):\n",
    "            for j in range(i+1,self.n):\n",
    "                if ((self.arr[i]+self.arr[j])==self.num):\n",
    "                    print(f\"The sum of pairs matching to the given number - {num}, are \\n\",self.arr[i],\"+\",self.arr[j],\"=\",self.num)\n",
    "                    \n",
    "num=int(input(\"Enter the number you want to get the sum of pairs for \\n\"))\n",
    "arr=[1,3,5,4,7,2,6,1,2,3,45,5,6,7,88]\n",
    "n=len(arr)\n",
    "obj=pairs(arr,num,n)\n",
    "obj.matching_pairs()\n",
    "    "
   ]
  },
  {
   "cell_type": "code",
   "execution_count": null,
   "metadata": {},
   "outputs": [],
   "source": []
  },
  {
   "cell_type": "markdown",
   "metadata": {},
   "source": [
    "# Q2. Write a program to reverse an array in place? In place means you cannot create a new array. You have to update the original array.\n",
    "\n"
   ]
  },
  {
   "cell_type": "code",
   "execution_count": 71,
   "metadata": {},
   "outputs": [
    {
     "name": "stdout",
     "output_type": "stream",
     "text": [
      "The given array of elements is [1, 2, 6, 2, 5, 7, 3]\n",
      "The reversed array of elements is [3, 7, 5, 2, 5, 7, 3]\n"
     ]
    }
   ],
   "source": [
    "def reversearray(arr):\n",
    "    start=0\n",
    "    end=len(arr)-1\n",
    "    while start<end:\n",
    "        arr[start]=arr[end]\n",
    "        arr[end]=arr[start]\n",
    "        start+=1\n",
    "        end-=1\n",
    "    print(\"The reversed array of elements is\",arr)\n",
    "    \n",
    "arr=[1,2,6,2,5,7,3]\n",
    "print(\"The given array of elements is\",arr)\n",
    "reversearray(arr)"
   ]
  },
  {
   "cell_type": "code",
   "execution_count": null,
   "metadata": {},
   "outputs": [],
   "source": []
  },
  {
   "cell_type": "code",
   "execution_count": null,
   "metadata": {},
   "outputs": [],
   "source": []
  },
  {
   "cell_type": "markdown",
   "metadata": {},
   "source": [
    "# Q3. Write a program to check if two strings are a rotation of each other?\n",
    "\n"
   ]
  },
  {
   "cell_type": "code",
   "execution_count": 95,
   "metadata": {},
   "outputs": [
    {
     "name": "stdout",
     "output_type": "stream",
     "text": [
      "ABCD and BCDA  are rotations of each other\n"
     ]
    }
   ],
   "source": [
    "def rotation(str1,str2):\n",
    "    s1=len(str1)\n",
    "    s2=len(str2)\n",
    "    temp=str1+str1 \n",
    "    if s1!=s2:\n",
    "        print(\"Rotation is not possible\")\n",
    "    \n",
    "    elif str2 in temp:\n",
    "        \n",
    "        print(str1,\"and\",str2, \" are rotations of each other\")\n",
    "    else:\n",
    "        print(str1,\"and\",str2, \"are not rotations of each other\")\n",
    "        \n",
    "st1=\"ABCD\"\n",
    "st2=\"BCDA\"\n",
    "rotation(st1,st2)\n"
   ]
  },
  {
   "cell_type": "code",
   "execution_count": null,
   "metadata": {},
   "outputs": [],
   "source": [
    "\n"
   ]
  },
  {
   "cell_type": "code",
   "execution_count": null,
   "metadata": {},
   "outputs": [],
   "source": []
  },
  {
   "cell_type": "markdown",
   "metadata": {},
   "source": [
    "# Q4. Write a program to print the first non-repeated character from a string?\n",
    "\n"
   ]
  },
  {
   "cell_type": "code",
   "execution_count": 30,
   "metadata": {},
   "outputs": [
    {
     "name": "stdout",
     "output_type": "stream",
     "text": [
      "The first non repeated character of the given string is\n",
      "s\n"
     ]
    }
   ],
   "source": [
    "def count_str(str):\n",
    "    count={}\n",
    "    \n",
    "    for i in str:\n",
    "        if i in count:\n",
    "            count[i]+=1\n",
    "        else:\n",
    "            count[i]=1\n",
    "    for i in count:\n",
    "        if count[i]==1:\n",
    "            print(i)\n",
    "            break\n",
    "    \n",
    "        \n",
    "str=\"sharath\"\n",
    "print(\"The first non repeated character of the given string is\")\n",
    "count_str(str)\n",
    "\n"
   ]
  },
  {
   "cell_type": "code",
   "execution_count": null,
   "metadata": {},
   "outputs": [],
   "source": []
  },
  {
   "cell_type": "code",
   "execution_count": null,
   "metadata": {},
   "outputs": [],
   "source": []
  },
  {
   "cell_type": "markdown",
   "metadata": {},
   "source": [
    "# Q5. Read about the Tower of Hanoi algorithm. Write a program to implement it.\n",
    "\n"
   ]
  },
  {
   "cell_type": "code",
   "execution_count": 45,
   "metadata": {},
   "outputs": [
    {
     "name": "stdout",
     "output_type": "stream",
     "text": [
      "Move disk 1 from rod A to rod C\n",
      "Move disk 2 from rod A to rod B\n",
      "Move disk 1 from rod C to rod B\n",
      "Move disk 3 from rod A to rod C\n",
      "Move disk 1 from rod B to rod A\n",
      "Move disk 2 from rod B to rod C\n",
      "Move disk 1 from rod A to rod C\n"
     ]
    }
   ],
   "source": [
    "def TowerOfHanoi(n , from_rod, to_rod, aux_rod):\n",
    "    if n == 0:\n",
    "        return\n",
    "    TowerOfHanoi(n-1, from_rod, aux_rod, to_rod)\n",
    "    print(\"Move disk\",n,\"from rod\",from_rod,\"to rod\",to_rod)\n",
    "    TowerOfHanoi(n-1, aux_rod, to_rod, from_rod)\n",
    "         \n",
    "\n",
    "n = 3\n",
    "TowerOfHanoi(n, 'A', 'C', 'B')"
   ]
  },
  {
   "cell_type": "code",
   "execution_count": null,
   "metadata": {},
   "outputs": [],
   "source": []
  },
  {
   "cell_type": "markdown",
   "metadata": {},
   "source": [
    "# Write a program to reverse a stack.\n",
    "\n"
   ]
  },
  {
   "cell_type": "code",
   "execution_count": 25,
   "metadata": {},
   "outputs": [
    {
     "name": "stdout",
     "output_type": "stream",
     "text": [
      "Enter the string you want to reverse :sanjana\n",
      "The reversed string is  anajnas\n"
     ]
    }
   ],
   "source": [
    "def reverse_stack(str):\n",
    "    stack=[]\n",
    "    reverse_str=\"\"\n",
    "    \n",
    "    for i in str:\n",
    "        stack.append(i)\n",
    "    for i in range(len(stack)):\n",
    "        reverse_str+=stack.pop()\n",
    "    return reverse_str\n",
    "        \n",
    "\n",
    "string=input(\"Enter the string you want to reverse :\")   \n",
    "print(\"The reversed string is \", reverse_stack(string))"
   ]
  },
  {
   "cell_type": "code",
   "execution_count": null,
   "metadata": {},
   "outputs": [],
   "source": []
  },
  {
   "cell_type": "code",
   "execution_count": null,
   "metadata": {},
   "outputs": [],
   "source": []
  },
  {
   "cell_type": "markdown",
   "metadata": {},
   "source": [
    "#  Write a program to find the smallest number using a stack.\n",
    "\n"
   ]
  },
  {
   "cell_type": "code",
   "execution_count": 32,
   "metadata": {},
   "outputs": [
    {
     "name": "stdout",
     "output_type": "stream",
     "text": [
      "The smallest number of the stack is \n"
     ]
    },
    {
     "data": {
      "text/plain": [
       "4"
      ]
     },
     "execution_count": 32,
     "metadata": {},
     "output_type": "execute_result"
    }
   ],
   "source": [
    "def smallest(stack):\n",
    "    stack1=[]\n",
    "    \n",
    "    for i in range(len(stack)):\n",
    "        stack1.append(stack.pop())\n",
    "    \n",
    "    stack1.sort()\n",
    "    print(\"The smallest number of the stack is \")\n",
    "    return stack1[0]\n",
    "\n",
    "s=[6,4,5,35,5]\n",
    "smallest(s)"
   ]
  },
  {
   "cell_type": "code",
   "execution_count": null,
   "metadata": {},
   "outputs": [],
   "source": []
  },
  {
   "cell_type": "code",
   "execution_count": null,
   "metadata": {},
   "outputs": [],
   "source": []
  },
  {
   "cell_type": "markdown",
   "metadata": {},
   "source": [
    "# Write a program to convert prefix expression to infix expression."
   ]
  },
  {
   "cell_type": "code",
   "execution_count": 67,
   "metadata": {},
   "outputs": [
    {
     "name": "stdout",
     "output_type": "stream",
     "text": [
      "The infix expression for given prefix expression * + 6 9 - 3 1 is  ( *( +6))\n"
     ]
    }
   ],
   "source": [
    "def pre_in(expression):\n",
    "    stack=[]\n",
    "    \n",
    "# expression=\"*+A/BC-/ADL\"\n",
    "    i=len(expression)-1\n",
    "    while i>=0:\n",
    "        if not isoperator(expression[i]):\n",
    "            stack.append(expression[i])\n",
    "            i-=1\n",
    "        else:\n",
    "            str=\"(\" + stack.pop() + expression[i] + stack.pop()+ \")\"\n",
    "            stack.append(str)\n",
    "            i-=1\n",
    "    \n",
    "    return stack.pop()\n",
    "        \n",
    "\n",
    "def isoperator(a):\n",
    "    if a==\"(\" or a==\")\" or a==\"+\" or a==\"-\" or a==\"*\"or a==\"/\" or a==\"^\":\n",
    "        return True\n",
    "    else:\n",
    "        return False\n",
    "    \n",
    "prefix=\"* + 6 9 - 3 1\"\n",
    "\n",
    "print(f\"The infix expression for given prefix expression {prefix} is \", pre_in(prefix))\n",
    "    "
   ]
  },
  {
   "cell_type": "code",
   "execution_count": null,
   "metadata": {},
   "outputs": [],
   "source": []
  },
  {
   "cell_type": "markdown",
   "metadata": {},
   "source": [
    "# Write a program to convert postfix to prefix expression."
   ]
  },
  {
   "cell_type": "code",
   "execution_count": 74,
   "metadata": {},
   "outputs": [
    {
     "data": {
      "text/plain": [
       "'+AB-CD'"
      ]
     },
     "execution_count": 74,
     "metadata": {},
     "output_type": "execute_result"
    }
   ],
   "source": [
    "def isoperator(a):\n",
    "    if a==\"+\":\n",
    "        return True\n",
    "    if a==\"-\":\n",
    "        return True\n",
    "    if a==\"*\":\n",
    "        return True\n",
    "    if a==\"/\":\n",
    "        return True\n",
    "    if a==\"^\":\n",
    "        return True\n",
    "    return False\n",
    "\n",
    "def Post_pre(expression):\n",
    "    \n",
    "    stack=[]\n",
    "    \n",
    "    l=len(expression)\n",
    "    \n",
    "    for i in range(l):\n",
    "        if isoperator(expression[i]):\n",
    "            op1=stack.pop()\n",
    "            op2=stack.pop()\n",
    "            \n",
    "            output=expression[i]+op2+op1\n",
    "            stack.append(output)\n",
    "        else:\n",
    "            stack.append(expression[i])\n",
    "            i+=1\n",
    "            \n",
    "    ans=\"\"\n",
    "    for i in stack:\n",
    "        ans+=i\n",
    "        \n",
    "    return ans\n",
    "\n",
    "post_exp = \"AB+CD-\"\n",
    "\n",
    "Post_pre(post_exp)\n",
    "    \n",
    "    "
   ]
  },
  {
   "cell_type": "code",
   "execution_count": null,
   "metadata": {},
   "outputs": [],
   "source": []
  },
  {
   "cell_type": "markdown",
   "metadata": {},
   "source": [
    "# Write a program to check if all the brackets are closed in a given code snippet.\n",
    "\n"
   ]
  },
  {
   "cell_type": "code",
   "execution_count": 102,
   "metadata": {},
   "outputs": [
    {
     "name": "stdout",
     "output_type": "stream",
     "text": [
      "Balanced\n"
     ]
    }
   ],
   "source": [
    "def areBracketsBalanced(expr):\n",
    "    stack = []\n",
    " \n",
    "    # Traversing the Expression\n",
    "    for char in expr:\n",
    "        if char in [\"(\", \"{\", \"[\"]:\n",
    " \n",
    "            stack.append(char)\n",
    "        else:\n",
    " \n",
    "            if not stack:\n",
    "                return False\n",
    "            current_char = stack.pop()\n",
    "            if current_char == '(' and char != \")\":\n",
    "                    return False\n",
    "            if current_char == '{' and char != \"}\":\n",
    "                    return False\n",
    "            if current_char == '['and char != \"]\":\n",
    "                    return False\n",
    " \n",
    "    if stack:\n",
    "        return False\n",
    "    return True\n",
    " \n",
    "    \n",
    "expr = \"()[]{}\"\n",
    " \n",
    "if areBracketsBalanced(expr):\n",
    "    print(\"Balanced\")\n",
    "else:\n",
    "    print(\"Not Balanced\")"
   ]
  },
  {
   "cell_type": "code",
   "execution_count": null,
   "metadata": {},
   "outputs": [],
   "source": []
  }
 ],
 "metadata": {
  "kernelspec": {
   "display_name": "Python 3",
   "language": "python",
   "name": "python3"
  },
  "language_info": {
   "codemirror_mode": {
    "name": "ipython",
    "version": 3
   },
   "file_extension": ".py",
   "mimetype": "text/x-python",
   "name": "python",
   "nbconvert_exporter": "python",
   "pygments_lexer": "ipython3",
   "version": "3.8.5"
  }
 },
 "nbformat": 4,
 "nbformat_minor": 4
}
